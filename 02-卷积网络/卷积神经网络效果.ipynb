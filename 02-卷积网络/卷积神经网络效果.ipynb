{
 "cells": [
  {
   "cell_type": "markdown",
   "metadata": {},
   "source": [
    "### 构建卷积神经网络\n",
    "- 卷积网络中的输入和层与传统神经网络有些区别，需重新设计，训练模块基本一致"
   ]
  },
  {
   "cell_type": "code",
   "execution_count": 1,
   "metadata": {
    "ExecuteTime": {
     "end_time": "2023-11-14T12:32:54.364697600Z",
     "start_time": "2023-11-14T12:32:48.185973700Z"
    }
   },
   "outputs": [],
   "source": [
    "import torch\n",
    "import torch.nn as nn\n",
    "import torch.optim as optim\n",
    "import torch.nn.functional as F\n",
    "from torchvision import datasets,transforms \n",
    "import matplotlib.pyplot as plt\n",
    "import numpy as np\n",
    "%matplotlib inline"
   ]
  },
  {
   "cell_type": "markdown",
   "metadata": {},
   "source": [
    "### 首先读取数据\n",
    "- 分别构建训练集和测试集（验证集）\n",
    "- DataLoader来迭代取数据"
   ]
  },
  {
   "cell_type": "code",
   "execution_count": 2,
   "metadata": {
    "collapsed": true,
    "ExecuteTime": {
     "end_time": "2023-11-14T12:33:04.749716100Z",
     "start_time": "2023-11-14T12:33:04.689202900Z"
    }
   },
   "outputs": [],
   "source": [
    "# 定义超参数 \n",
    "input_size = 28  #图像的总尺寸28*28\n",
    "num_classes = 10  #标签的种类数\n",
    "num_epochs = 3  #训练的总循环周期\n",
    "batch_size = 64  #一个撮（批次）的大小，64张图片\n",
    "\n",
    "# 这里导入数据集\n",
    "\n",
    "# 训练集\n",
    "train_dataset = datasets.MNIST(root='./data',  \n",
    "                            train=True,   \n",
    "                            transform=transforms.ToTensor(),  \n",
    "                            download=True) \n",
    "\n",
    "# 测试集\n",
    "test_dataset = datasets.MNIST(root='./data', \n",
    "                           train=False, \n",
    "                           transform=transforms.ToTensor())\n",
    "\n",
    "# 构建batch数据\n",
    "train_loader = torch.utils.data.DataLoader(dataset=train_dataset, \n",
    "                                           batch_size=batch_size, \n",
    "                                           shuffle=True)\n",
    "test_loader = torch.utils.data.DataLoader(dataset=test_dataset, \n",
    "                                           batch_size=batch_size, \n",
    "                                           shuffle=True)"
   ]
  },
  {
   "cell_type": "markdown",
   "metadata": {},
   "source": [
    "### 卷积网络模块构建\n",
    "- 一般卷积层，relu层，池化层可以写成一个套餐\n",
    "- 注意卷积最后结果还是一个特征图，需要把图转换成向量才能做分类或者回归任务\n",
    "\n",
    "卷积网络都是按套路按步骤来的\n",
    "conv卷积层 - conv卷积层 - 池化pool - relu 非线性 \n",
    "这是一个组合，有很多组合，所以将这些都定义在一起Sequential\n",
    "nn.Conv2d是用来处理图像的，w,h 和灰度值\n",
    "nn.Conv3d 是用来处理视频的，视频多了一个维度时间轴，还是图像一帧一帧组成的\n",
    "nn.Conv1d 是用来处理结构化数据，一维向量的，每5个一组取一份，每5个一组,最适合就是FC，不适合做结构化数据\n",
    "<img src=\"./img/卷积不同d的方法处理不同数据.png\">\n",
    "<img src=\"./img/卷积和第三维度的个数和channel的个数需要一致.png\">\n",
    "pytorch中是channel first，第一个维度是channel的个数，预处理中需要完成\n",
    "<br><br><br><br><br>\n",
    "其中padding的设置大部分和kernelsize的大小相关的，我们希望做到输入的维度和输出的维度不变，那么就需要通过增加padding来保持维度不缩减\n",
    "<img src=\"./img/padding是和kernelsize选择的.png\">"
   ]
  },
  {
   "cell_type": "code",
   "execution_count": 3,
   "metadata": {
    "collapsed": true,
    "ExecuteTime": {
     "end_time": "2023-11-14T12:33:08.642806200Z",
     "start_time": "2023-11-14T12:33:08.628362800Z"
    }
   },
   "outputs": [],
   "source": [
    "class CNN(nn.Module):\n",
    "    def __init__(self):\n",
    "        super(CNN, self).__init__()\n",
    "        self.conv1 = nn.Sequential(         # 输入大小 (1, 28, 28)\n",
    "            nn.Conv2d(\n",
    "                in_channels=1,              # 灰度图   说明输入是几个channel的\n",
    "                out_channels=16,            # 要得到几多少个特征图，也是卷积核的特殊\n",
    "                kernel_size=5,              # 卷积核大小 越小越好 一般3*3 或者5*5\n",
    "                stride=1,                   # 步长\n",
    "                padding=2,                  # 如果希望卷积后大小跟原来一样，需要设置padding=(kernel_size-1)/2 if stride=1\n",
    "            ),                               # 输出的特征图为 (16, 28, 28)\n",
    "            nn.ReLU(),                      # relu层\n",
    "            nn.MaxPool2d(kernel_size=2),    # 进行池化操作（2x2 区域）, 输出结果为： (16, 14, 14) \n",
    "            # pooling对原来的数据进行压缩，一般默认都是变成原来的一半1/2，正常的池化就是变成原来的一般，除非特殊的池化操作\n",
    "        )\n",
    "        # 这里设置第二个层\n",
    "        self.conv2 = nn.Sequential(         # 下一个套餐的输入 (16, 14, 14)\n",
    "            nn.Conv2d(16, 32, 5, 1, 2),     # 输出 (32, 14, 14)\n",
    "            nn.ReLU(),                      # relu层\n",
    "            nn.Conv2d(32, 32, 5, 1, 2),\n",
    "            nn.ReLU(),\n",
    "            nn.MaxPool2d(2),                # 输出 (32, 7, 7)\n",
    "        )\n",
    "        \n",
    "        self.conv3 = nn.Sequential(         \n",
    "            nn.Conv2d(32, 64, 5, 1, 2),     # 输出 (64, 7, 7)\n",
    "            nn.ReLU(),                      \n",
    "            nn.MaxPool2d(2),                 # 输出 (64, 7, 7)\n",
    "        )\n",
    "        \n",
    "        self.out = nn.Linear(64 * 7 * 7, 10)   # 全连接层得到的结果 ， 10分类\n",
    "\n",
    "    def forward(self, x):\n",
    "        x = self.conv1(x)\n",
    "        x = self.conv2(x)\n",
    "        x = self.conv3(x)\n",
    "        x = x.view(x.size(0), -1)           # flatten操作，结果为：(batch_size, 32 * 7 * 7) 这里的view方法和reshape方法是一样的 x.size(0) 0表示batch的维度，batch不变的，-1表示自动计算 \n",
    "        # 比如【5，4】 5*4的矩阵，现在转成【2，-1】那么就是【2，10】\n",
    "        # 这样就将特征展开，组成了【batch，特征数】\n",
    "        output = self.out(x) # 这样就可以计算全连接操作，一个特征图不能做全连接操作\n",
    "        return output"
   ]
  },
  {
   "cell_type": "markdown",
   "metadata": {},
   "source": [
    "### 准确率作为评估标准"
   ]
  },
  {
   "cell_type": "code",
   "execution_count": 4,
   "metadata": {
    "collapsed": true,
    "ExecuteTime": {
     "end_time": "2023-11-14T12:33:11.590598Z",
     "start_time": "2023-11-14T12:33:11.573922700Z"
    }
   },
   "outputs": [],
   "source": [
    "def accuracy(predictions, labels):\n",
    "    pred = torch.max(predictions.data, 1)[1] \n",
    "    rights = pred.eq(labels.data.view_as(pred)).sum() \n",
    "    return rights, len(labels) "
   ]
  },
  {
   "cell_type": "markdown",
   "metadata": {},
   "source": [
    "### 训练网络模型"
   ]
  },
  {
   "cell_type": "code",
   "execution_count": 5,
   "metadata": {
    "ExecuteTime": {
     "end_time": "2023-11-14T12:35:17.297060Z",
     "start_time": "2023-11-14T12:33:13.622465Z"
    }
   },
   "outputs": [
    {
     "name": "stdout",
     "output_type": "stream",
     "text": [
      "当前epoch: 0 [0/60000 (0%)]\t损失: 2.300574\t训练集准确率: 10.94%\t测试集正确率: 11.97%\n",
      "当前epoch: 0 [6400/60000 (11%)]\t损失: 0.239671\t训练集准确率: 79.72%\t测试集正确率: 94.51%\n",
      "当前epoch: 0 [12800/60000 (21%)]\t损失: 0.022764\t训练集准确率: 87.48%\t测试集正确率: 96.07%\n",
      "当前epoch: 0 [19200/60000 (32%)]\t损失: 0.132681\t训练集准确率: 90.42%\t测试集正确率: 97.67%\n",
      "当前epoch: 0 [25600/60000 (43%)]\t损失: 0.062406\t训练集准确率: 92.09%\t测试集正确率: 98.10%\n",
      "当前epoch: 0 [32000/60000 (53%)]\t损失: 0.010999\t训练集准确率: 93.15%\t测试集正确率: 98.16%\n",
      "当前epoch: 0 [38400/60000 (64%)]\t损失: 0.049467\t训练集准确率: 93.91%\t测试集正确率: 97.93%\n",
      "当前epoch: 0 [44800/60000 (75%)]\t损失: 0.046437\t训练集准确率: 94.47%\t测试集正确率: 98.39%\n",
      "当前epoch: 0 [51200/60000 (85%)]\t损失: 0.095034\t训练集准确率: 94.93%\t测试集正确率: 98.49%\n",
      "当前epoch: 0 [57600/60000 (96%)]\t损失: 0.125207\t训练集准确率: 95.31%\t测试集正确率: 98.39%\n",
      "当前epoch: 1 [0/60000 (0%)]\t损失: 0.008421\t训练集准确率: 100.00%\t测试集正确率: 98.44%\n",
      "当前epoch: 1 [6400/60000 (11%)]\t损失: 0.012006\t训练集准确率: 98.53%\t测试集正确率: 97.98%\n",
      "当前epoch: 1 [12800/60000 (21%)]\t损失: 0.027024\t训练集准确率: 98.48%\t测试集正确率: 98.49%\n",
      "当前epoch: 1 [19200/60000 (32%)]\t损失: 0.053866\t训练集准确率: 98.49%\t测试集正确率: 98.64%\n",
      "当前epoch: 1 [25600/60000 (43%)]\t损失: 0.038489\t训练集准确率: 98.50%\t测试集正确率: 98.87%\n",
      "当前epoch: 1 [32000/60000 (53%)]\t损失: 0.012717\t训练集准确率: 98.53%\t测试集正确率: 98.92%\n",
      "当前epoch: 1 [38400/60000 (64%)]\t损失: 0.013593\t训练集准确率: 98.59%\t测试集正确率: 98.67%\n",
      "当前epoch: 1 [44800/60000 (75%)]\t损失: 0.003638\t训练集准确率: 98.64%\t测试集正确率: 98.80%\n",
      "当前epoch: 1 [51200/60000 (85%)]\t损失: 0.015914\t训练集准确率: 98.65%\t测试集正确率: 99.05%\n",
      "当前epoch: 1 [57600/60000 (96%)]\t损失: 0.008563\t训练集准确率: 98.65%\t测试集正确率: 99.04%\n",
      "当前epoch: 2 [0/60000 (0%)]\t损失: 0.005544\t训练集准确率: 100.00%\t测试集正确率: 99.03%\n",
      "当前epoch: 2 [6400/60000 (11%)]\t损失: 0.008870\t训练集准确率: 99.16%\t测试集正确率: 98.95%\n",
      "当前epoch: 2 [12800/60000 (21%)]\t损失: 0.045911\t训练集准确率: 99.18%\t测试集正确率: 98.64%\n",
      "当前epoch: 2 [19200/60000 (32%)]\t损失: 0.037147\t训练集准确率: 99.17%\t测试集正确率: 99.02%\n",
      "当前epoch: 2 [25600/60000 (43%)]\t损失: 0.069940\t训练集准确率: 99.13%\t测试集正确率: 99.03%\n",
      "当前epoch: 2 [32000/60000 (53%)]\t损失: 0.005571\t训练集准确率: 99.17%\t测试集正确率: 99.11%\n",
      "当前epoch: 2 [38400/60000 (64%)]\t损失: 0.000333\t训练集准确率: 99.17%\t测试集正确率: 99.08%\n",
      "当前epoch: 2 [44800/60000 (75%)]\t损失: 0.001016\t训练集准确率: 99.12%\t测试集正确率: 99.04%\n",
      "当前epoch: 2 [51200/60000 (85%)]\t损失: 0.038688\t训练集准确率: 99.10%\t测试集正确率: 99.22%\n",
      "当前epoch: 2 [57600/60000 (96%)]\t损失: 0.010640\t训练集准确率: 99.10%\t测试集正确率: 99.06%\n"
     ]
    }
   ],
   "source": [
    "# 实例化\n",
    "net = CNN() \n",
    "#损失函数\n",
    "criterion = nn.CrossEntropyLoss() \n",
    "#优化器\n",
    "optimizer = optim.Adam(net.parameters(), lr=0.001) #定义优化器，普通的随机梯度下降算法\n",
    "\n",
    "#开始训练循环\n",
    "for epoch in range(num_epochs):\n",
    "    #当前epoch的结果保存下来\n",
    "    train_rights = [] \n",
    "    \n",
    "    for batch_idx, (data, target) in enumerate(train_loader):  #针对容器中的每一个批进行循环\n",
    "        net.train()                             \n",
    "        output = net(data) \n",
    "        loss = criterion(output, target) \n",
    "        optimizer.zero_grad() \n",
    "        loss.backward() \n",
    "        optimizer.step() \n",
    "        right = accuracy(output, target) \n",
    "        train_rights.append(right) \n",
    "\n",
    "    \n",
    "        if batch_idx % 100 == 0: \n",
    "            \n",
    "            net.eval() \n",
    "            val_rights = [] \n",
    "            \n",
    "            for (data, target) in test_loader:\n",
    "                output = net(data) \n",
    "                right = accuracy(output, target) \n",
    "                val_rights.append(right)\n",
    "                \n",
    "            #准确率计算\n",
    "            train_r = (sum([tup[0] for tup in train_rights]), sum([tup[1] for tup in train_rights]))\n",
    "            val_r = (sum([tup[0] for tup in val_rights]), sum([tup[1] for tup in val_rights]))\n",
    "\n",
    "            print('当前epoch: {} [{}/{} ({:.0f}%)]\\t损失: {:.6f}\\t训练集准确率: {:.2f}%\\t测试集正确率: {:.2f}%'.format(\n",
    "                epoch, batch_idx * batch_size, len(train_loader.dataset),\n",
    "                100. * batch_idx / len(train_loader), \n",
    "                loss.data, \n",
    "                100. * train_r[0].numpy() / train_r[1], \n",
    "                100. * val_r[0].numpy() / val_r[1]))"
   ]
  },
  {
   "cell_type": "markdown",
   "metadata": {
    "collapsed": true
   },
   "source": [
    "### 练习\n",
    "- 再加入一层卷积，效果怎么样？\n",
    "- 当前任务中为什么全连接层是32*7*7 其中每一个数字代表什么含义"
   ]
  },
  {
   "cell_type": "code",
   "execution_count": null,
   "metadata": {
    "collapsed": true
   },
   "outputs": [],
   "source": []
  },
  {
   "cell_type": "code",
   "execution_count": null,
   "metadata": {
    "collapsed": true
   },
   "outputs": [],
   "source": []
  }
 ],
 "metadata": {
  "kernelspec": {
   "display_name": "Python 3",
   "language": "python",
   "name": "python3"
  },
  "language_info": {
   "codemirror_mode": {
    "name": "ipython",
    "version": 3
   },
   "file_extension": ".py",
   "mimetype": "text/x-python",
   "name": "python",
   "nbconvert_exporter": "python",
   "pygments_lexer": "ipython3",
   "version": "3.6.3"
  }
 },
 "nbformat": 4,
 "nbformat_minor": 2
}
