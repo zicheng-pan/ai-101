{
 "cells": [
  {
   "cell_type": "markdown",
   "metadata": {},
   "source": [
    "### Mnist分类任务：\n",
    "\n",
    "- 网络基本构建与训练方法，常用函数解析\n",
    "\n",
    "- torch.nn.functional模块\n",
    "\n",
    "- nn.Module模块\n"
   ]
  },
  {
   "cell_type": "markdown",
   "metadata": {},
   "source": [
    "### 读取Mnist数据集\n",
    "- 会自动进行下载"
   ]
  },
  {
   "cell_type": "code",
   "execution_count": 1,
   "metadata": {},
   "outputs": [],
   "source": [
    "%matplotlib inline"
   ]
  },
  {
   "cell_type": "code",
   "execution_count": 2,
   "metadata": {},
   "outputs": [],
   "source": [
    "from pathlib import Path\n",
    "import requests\n",
    "\n",
    "DATA_PATH = Path(\"data\")\n",
    "PATH = DATA_PATH / \"mnist\"\n",
    "\n",
    "PATH.mkdir(parents=True, exist_ok=True)\n",
    "\n",
    "URL = \"http://deeplearning.net/data/mnist/\"\n",
    "FILENAME = \"mnist.pkl.gz\"\n",
    "\n",
    "if not (PATH / FILENAME).exists():\n",
    "        content = requests.get(URL + FILENAME).content\n",
    "        (PATH / FILENAME).open(\"wb\").write(content)"
   ]
  },
  {
   "cell_type": "code",
   "execution_count": 3,
   "metadata": {},
   "outputs": [],
   "source": [
    "import pickle\n",
    "import gzip\n",
    "\n",
    "with gzip.open((PATH / FILENAME).as_posix(), \"rb\") as f:\n",
    "        ((x_train, y_train), (x_valid, y_valid), _) = pickle.load(f, encoding=\"latin-1\")"
   ]
  },
  {
   "cell_type": "markdown",
   "metadata": {},
   "source": [
    "784是mnist数据集每个样本的像素点个数"
   ]
  },
  {
   "cell_type": "code",
   "execution_count": 4,
   "metadata": {},
   "outputs": [
    {
     "name": "stdout",
     "output_type": "stream",
     "text": [
      "(50000, 784)\n"
     ]
    },
    {
     "data": {
      "image/png": "[encoded data removed]",
      "text/plain": [
       "<Figure size 640x480 with 1 Axes>"
      ]
     },
     "metadata": {},
     "output_type": "display_data"
    }
   ],
   "source": [
    "from matplotlib import pyplot\n",
    "import numpy as np\n",
    "\n",
    "pyplot.imshow(x_train[0].reshape((28, 28)), cmap=\"gray\")\n",
    "print(x_train.shape)"
   ]
  },
  {
   "cell_type": "markdown",
   "metadata": {},
   "source": [
    "<img src=\"./img/4.png\" alt=\"FAO\" width=\"790\">"
   ]
  },
  {
   "cell_type": "markdown",
   "metadata": {},
   "source": [
    "<img src=\"./img/5.png\" alt=\"FAO\" width=\"790\">"
   ]
  },
  {
   "cell_type": "markdown",
   "metadata": {},
   "source": [
    "注意数据需转换成tensor才能参与后续建模训练\n"
   ]
  },
  {
   "cell_type": "code",
   "execution_count": 5,
   "metadata": {},
   "outputs": [
    {
     "name": "stdout",
     "output_type": "stream",
     "text": [
      "tensor([[0., 0., 0.,  ..., 0., 0., 0.],\n",
      "        [0., 0., 0.,  ..., 0., 0., 0.],\n",
      "        [0., 0., 0.,  ..., 0., 0., 0.],\n",
      "        ...,\n",
      "        [0., 0., 0.,  ..., 0., 0., 0.],\n",
      "        [0., 0., 0.,  ..., 0., 0., 0.],\n",
      "        [0., 0., 0.,  ..., 0., 0., 0.]]) tensor([5, 0, 4,  ..., 8, 4, 8])\n",
      "torch.Size([50000, 784])\n",
      "tensor(0) tensor(9)\n"
     ]
    }
   ],
   "source": [
    "import torch\n",
    "# map映射，将ndarray数组格式转成tensor映射\n",
    "x_train, y_train, x_valid, y_valid = map(\n",
    "    torch.tensor, (x_train, y_train, x_valid, y_valid)\n",
    ")\n",
    "# n是样本得数量，c是像素点 784个像素点28*28\n",
    "n, c = x_train.shape\n",
    "x_train, x_train.shape, y_train.min(), y_train.max()\n",
    "print(x_train, y_train)\n",
    "print(x_train.shape)\n",
    "# 标签0-9\n",
    "print(y_train.min(), y_train.max())"
   ]
  },
  {
   "cell_type": "markdown",
   "metadata": {},
   "source": [
    "### torch.nn.functional 很多层和函数在这里都会见到\n",
    "\n",
    "torch.nn.functional中有很多功能，后续会常用的。那什么时候使用nn.Module，什么时候使用nn.functional呢？一般情况下，如果模型有可学习的参数，最好用nn.Module，其他情况nn.functional相对更简单一些"
   ]
  },
  {
   "cell_type": "code",
   "execution_count": 6,
   "metadata": {},
   "outputs": [],
   "source": [
    "import torch.nn.functional as F\n",
    "\n",
    "# nn.functional 适合学习测试，但是不适合用来训练\n",
    "# 交叉熵损失\n",
    "loss_func = F.cross_entropy\n",
    "\n",
    "# 计算wx+b看有pytorch好不好用\n",
    "def model(xb):\n",
    "    return xb.mm(weights) + bias"
   ]
  },
  {
   "cell_type": "markdown",
   "metadata": {},
   "source": [
    "快速理解交叉熵函数可以从以下几个角度来考虑：\n",
    "\n",
    "1. 交叉熵函数可以用于衡量两个概率分布之间的差异。当两个分布完全一致时，交叉熵为0；当两个分布差异越大时，交叉熵的值越大。\n",
    "\n",
    "2. 在分类任务中，交叉熵函数常用于衡量模型预测结果与真实标签之间的差异。通过最小化交叉熵函数，可以使模型的预测结果更接近真实标签，从而提高模型的性能。\n",
    "\n",
    "3. 交叉熵函数中的对数运算可以有效地放大预测概率值之间的差异。当模型的预测概率与真实标签概率相差较大时，对数运算会使差异更加明显。\n",
    "\n",
    "总的来说，交叉熵函数是一种常用的衡量概率分布差异的指标，特别适用于分类任务中的模型评估和优化。"
   ]
  },
  {
   "cell_type": "markdown",
   "metadata": {},
   "source": [
    "在PyTorch中，`tensor.mm()`方法是用于执行两个矩阵的矩阵乘法（Matrix Multiplication）的函数。它是`torch.Tensor`类的方法，用于执行两个二维张量（矩阵）之间的矩阵乘法运算。\n",
    "\n",
    "具体而言，`tensor.mm()`方法会将调用它的矩阵视为左矩阵，然后与作为参数传递给该方法的矩阵作为右矩阵，执行矩阵乘法运算。两个矩阵的维度必须满足矩阵乘法的规则，即左矩阵的列数必须等于右矩阵的行数。\n",
    "\n",
    "例如，假设我们有两个矩阵A和B，可以使用`tensor.mm()`方法计算它们的乘积C：\n",
    "\n",
    "```python\n",
    "import torch\n",
    "\n",
    "A = torch.tensor([[1, 2], [3, 4]])\n",
    "B = torch.tensor([[5, 6], [7, 8]])\n",
    "\n",
    "C = A.mm(B)\n",
    "```\n",
    "\n",
    "上述代码中，矩阵A是一个2x2的矩阵，矩阵B也是一个2x2的矩阵。通过调用`A.mm(B)`，我们得到了它们的乘积矩阵C，结果为：\n",
    "\n",
    "```\n",
    "tensor([[19, 22],\n",
    "        [43, 50]])\n",
    "```\n",
    "\n",
    "注意，`tensor.mm()`方法仅适用于二维张量（矩阵）之间的矩阵乘法运算。对于更高维度的张量，可以使用`torch.matmul()`函数执行张量乘法运算。"
   ]
  },
  {
   "cell_type": "markdown",
   "metadata": {},
   "source": [
    "这里batch是64个样本，那么每个样本784个维度,10个类别\n",
    "这里如果只有一层神经网络\n",
    "x.mm（w）\n",
    "矩阵乘法，那么w得维度就是784*10\n",
    "b就是10个值\n",
    "w需要更新，那么就需要梯度得所以required_grad = true\n",
    "weights = torch.randn([784, 10], dtype = torch.float,  requires_grad = True) \n"
   ]
  },
  {
   "cell_type": "code",
   "execution_count": 10,
   "metadata": {},
   "outputs": [
    {
     "data": {
      "text/plain": [
       "tensor([[-0.1831,  0.2433,  1.6987,  ...,  0.5959, -1.7763, -0.2701],\n",
       "        [ 0.0270, -0.4093,  0.7178,  ..., -1.2376,  0.7601, -1.1901],\n",
       "        [-1.3166, -0.3185,  0.2489,  ...,  1.2599,  0.0351,  0.5857],\n",
       "        ...,\n",
       "        [ 1.3949, -0.5380,  1.2432,  ..., -1.4323, -0.9249,  0.9814],\n",
       "        [ 1.6295, -0.0851, -1.4690,  ...,  0.8231,  0.3279,  2.0194],\n",
       "        [-0.1556,  0.7607, -0.3104,  ...,  0.8845,  0.7100,  0.9098]],\n",
       "       requires_grad=True)"
      ]
     },
     "execution_count": 10,
     "metadata": {},
     "output_type": "execute_result"
    }
   ],
   "source": [
    "# 这里就是对w做随机得初始化\n",
    "torch.randn([784, 10], dtype = torch.float,  requires_grad = True) "
   ]
  },
  {
   "cell_type": "code",
   "execution_count": 13,
   "metadata": {},
   "outputs": [
    {
     "name": "stdout",
     "output_type": "stream",
     "text": [
      "tensor(14.1397, grad_fn=<NllLossBackward0>)\n"
     ]
    }
   ],
   "source": [
    "# batch size这里设置一次训练多少样本\n",
    "bs = 64\n",
    "xb = x_train[0:bs]  # a mini-batch from x\n",
    "yb = y_train[0:bs]\n",
    "weights = torch.randn([784, 10], dtype = torch.float,  requires_grad = True) \n",
    "\n",
    "# b对结果得影响非常小得\n",
    "bias = torch.zeros(10, requires_grad=True)\n",
    "#计算损失函数需要传递两个值，一个是预测值，一个是预测值得结果\n",
    "print(loss_func(model(xb), yb))"
   ]
  },
  {
   "cell_type": "markdown",
   "metadata": {},
   "source": [
    "### 创建一个model来更简化代码"
   ]
  },
  {
   "cell_type": "markdown",
   "metadata": {},
   "source": [
    "##### 这里采用全连接层\n",
    "\n",
    "那么网络结构\n",
    "F = wx+b 每一层都是wx+b\n",
    "\n",
    "输入层得维度 batch * 784\n",
    "隐藏层 如果我们想要128个类别，那么隐藏层就是 784*128得矩阵，b1就是128个值\n",
    "同理w2 128 * 10 得维度，b2 10个值\n",
    "输出层 输出层也是固定得，如果维度是10分类，那么最后就是10\n",
    "\n",
    "分类：\n",
    "我会得到样本中各个类别得概率，10分类，那么就会得到10个类别中得概率，取其中概率最大得"
   ]
  },
  {
   "cell_type": "markdown",
   "metadata": {},
   "source": [
    "- 必须继承nn.Module且在其构造函数中需调用nn.Module的构造函数\n",
    "- 无需写反向传播函数，nn.Module能够利用autograd自动实现反向传播\n",
    "- Module中的可学习参数可以通过named_parameters()或者parameters()返回迭代器"
   ]
  },
  {
   "cell_type": "markdown",
   "metadata": {},
   "source": [
    "<img src=\"./img/神经网络传播.png\" alt=\"FAO\" width=\"790\">"
   ]
  },
  {
   "cell_type": "code",
   "execution_count": 23,
   "metadata": {},
   "outputs": [],
   "source": [
    "from torch import nn\n",
    "\n",
    "# 定义一个类，这个必须继承nn.Module\n",
    "class Mnist_NN(nn.Module):\n",
    "    # 这两个函数非常关键一定指定好\n",
    "    # 建立这个模型需要的所有的东西，和做饭一样，准备好食材，构建网络执行什么计算，什么网络都指定好\n",
    "    # 写出神经网络是怎么设计的，每一层输入是什么，输出是什么\n",
    "    def __init__(self):\n",
    "        super().__init__()\n",
    "        # 这里输入784个点，输出128个特征 [这里封装好了，w和b的维度不需要自己计算了]\n",
    "        self.hidden1 = nn.Linear(784, 128)\n",
    "        # 同上再增加一层\n",
    "        self.hidden2 = nn.Linear(128, 256)\n",
    "        # 最后一层输出10个类别的概率，所以就是256，10\n",
    "        # 神经网络中需要drop out\n",
    "        # 神经网络中，神经元个数特别多，那么训练中特别容易过拟合，需要随机杀死神经元\n",
    "        # 班级里30人，随机请出去一些，保留15个，那么一天上8堂课，那么每个人都会随机被训练到一些\n",
    "        self.out  = nn.Linear(256, 10)\n",
    "        # 按照多少百分比杀死这个东西，一般50%比较常见\n",
    "        self.dropout = nn.Dropout(0.5)\n",
    "\n",
    "    # 上面只是定义好，军马未动，粮草先行\n",
    "    # torch 前向传播需要自己做定义，反向传播自动的，一行代码就实现了\n",
    "    # 这里输入batch*特征 这里就是 [64*784]那么这个x进来之后每一步都做了什么事情是需要自己定义的\n",
    "    def forward(self, x):\n",
    "        x = F.relu(self.hidden1(x))\n",
    "        # 基本上每一个全连接层都需要加一个dropout,卷积层一般不加\n",
    "        x = self.dropout(x)\n",
    "         # 基本上每一个全连接层都需要加一个dropout,卷积层一般不加\n",
    "        x = F.relu(self.hidden2(x))\n",
    "        x = self.dropout(x)\n",
    "        # 输出层不用加\n",
    "        x = self.out(x)\n",
    "        return x\n",
    "        "
   ]
  },
  {
   "cell_type": "code",
   "execution_count": 25,
   "metadata": {},
   "outputs": [
    {
     "name": "stdout",
     "output_type": "stream",
     "text": [
      "Mnist_NN(\n",
      "  (hidden1): Linear(in_features=784, out_features=128, bias=True)\n",
      "  (hidden2): Linear(in_features=128, out_features=256, bias=True)\n",
      "  (out): Linear(in_features=256, out_features=10, bias=True)\n",
      "  (dropout): Dropout(p=0.5, inplace=False)\n",
      ")\n"
     ]
    }
   ],
   "source": [
    "# 打印查看下自己的网络是啥\n",
    "net = Mnist_NN()\n",
    "print(net)\n"
   ]
  },
  {
   "cell_type": "markdown",
   "metadata": {},
   "source": [
    "可以打印我们定义好名字里的权重和偏置项"
   ]
  },
  {
   "cell_type": "code",
   "execution_count": 27,
   "metadata": {},
   "outputs": [
    {
     "name": "stdout",
     "output_type": "stream",
     "text": [
      "hidden1.weight Parameter containing:\n",
      "tensor([[ 0.0124,  0.0165, -0.0281,  ...,  0.0338,  0.0193, -0.0163],\n",
      "        [-0.0327,  0.0007, -0.0132,  ...,  0.0350,  0.0093,  0.0248],\n",
      "        [ 0.0266,  0.0269,  0.0140,  ..., -0.0276, -0.0145, -0.0350],\n",
      "        ...,\n",
      "        [-0.0164, -0.0137,  0.0041,  ..., -0.0107,  0.0196, -0.0092],\n",
      "        [-0.0227, -0.0028,  0.0115,  ..., -0.0055,  0.0187, -0.0095],\n",
      "        [ 0.0187,  0.0300, -0.0013,  ..., -0.0024,  0.0333,  0.0351]],\n",
      "       requires_grad=True) torch.Size([128, 784])\n",
      "hidden1.bias Parameter containing:\n",
      "tensor([-0.0035, -0.0050, -0.0022,  0.0338,  0.0308,  0.0242,  0.0087, -0.0019,\n",
      "        -0.0222, -0.0281, -0.0320, -0.0238,  0.0019, -0.0037,  0.0145, -0.0357,\n",
      "         0.0181, -0.0250, -0.0008,  0.0128, -0.0111, -0.0241,  0.0087, -0.0250,\n",
      "         0.0140, -0.0127,  0.0292, -0.0330,  0.0033, -0.0037, -0.0003, -0.0276,\n",
      "        -0.0231,  0.0158,  0.0192,  0.0255,  0.0294,  0.0166, -0.0121,  0.0294,\n",
      "         0.0326,  0.0339,  0.0186, -0.0255,  0.0315, -0.0103, -0.0247,  0.0116,\n",
      "         0.0105, -0.0197,  0.0266,  0.0109,  0.0189,  0.0259, -0.0123,  0.0060,\n",
      "        -0.0086,  0.0165, -0.0128, -0.0349,  0.0277,  0.0052, -0.0334,  0.0180,\n",
      "        -0.0007, -0.0222,  0.0250, -0.0285, -0.0156, -0.0199, -0.0217, -0.0102,\n",
      "         0.0122,  0.0098, -0.0280,  0.0096, -0.0241, -0.0242, -0.0256,  0.0272,\n",
      "        -0.0161, -0.0150,  0.0108, -0.0198,  0.0033, -0.0116,  0.0181, -0.0256,\n",
      "         0.0349,  0.0131,  0.0180,  0.0310, -0.0118,  0.0010, -0.0136,  0.0270,\n",
      "         0.0304, -0.0073,  0.0203,  0.0232, -0.0081, -0.0100,  0.0202, -0.0153,\n",
      "        -0.0107, -0.0105, -0.0293,  0.0206, -0.0128, -0.0215, -0.0200, -0.0175,\n",
      "        -0.0233,  0.0185, -0.0260, -0.0034, -0.0079,  0.0073, -0.0345, -0.0276,\n",
      "        -0.0217,  0.0253, -0.0311, -0.0144,  0.0109, -0.0303, -0.0081, -0.0147],\n",
      "       requires_grad=True) torch.Size([128])\n",
      "hidden2.weight Parameter containing:\n",
      "tensor([[-0.0521, -0.0365, -0.0797,  ...,  0.0416,  0.0671,  0.0728],\n",
      "        [-0.0856,  0.0572,  0.0172,  ...,  0.0473, -0.0053, -0.0069],\n",
      "        [-0.0622, -0.0479,  0.0455,  ..., -0.0227, -0.0379,  0.0130],\n",
      "        ...,\n",
      "        [ 0.0023,  0.0225, -0.0717,  ...,  0.0444, -0.0249, -0.0071],\n",
      "        [-0.0135, -0.0830,  0.0443,  ...,  0.0622, -0.0383,  0.0662],\n",
      "        [ 0.0800,  0.0477, -0.0288,  ..., -0.0528,  0.0289, -0.0408]],\n",
      "       requires_grad=True) torch.Size([256, 128])\n",
      "hidden2.bias Parameter containing:\n",
      "tensor([-0.0817, -0.0205, -0.0780,  0.0656, -0.0099, -0.0578, -0.0009, -0.0864,\n",
      "        -0.0548,  0.0163, -0.0119, -0.0114, -0.0067, -0.0340, -0.0070, -0.0589,\n",
      "         0.0179, -0.0431,  0.0083, -0.0742,  0.0594,  0.0284,  0.0479,  0.0791,\n",
      "         0.0262, -0.0698, -0.0690,  0.0672, -0.0015, -0.0879,  0.0691,  0.0592,\n",
      "        -0.0381,  0.0717,  0.0138,  0.0009, -0.0559, -0.0523, -0.0668, -0.0511,\n",
      "        -0.0015, -0.0165, -0.0166, -0.0593, -0.0110, -0.0381,  0.0120,  0.0299,\n",
      "        -0.0302, -0.0567, -0.0149,  0.0650,  0.0707, -0.0201, -0.0727, -0.0068,\n",
      "        -0.0134,  0.0251,  0.0747, -0.0371,  0.0257,  0.0457,  0.0432, -0.0683,\n",
      "         0.0629, -0.0116, -0.0402,  0.0607, -0.0735,  0.0022, -0.0005, -0.0822,\n",
      "        -0.0162,  0.0518, -0.0735,  0.0738, -0.0267,  0.0023,  0.0661,  0.0600,\n",
      "        -0.0033,  0.0744, -0.0670, -0.0807, -0.0623, -0.0526, -0.0706, -0.0227,\n",
      "         0.0058, -0.0864,  0.0454,  0.0022, -0.0730,  0.0250, -0.0253, -0.0186,\n",
      "         0.0712,  0.0352, -0.0704,  0.0154,  0.0525,  0.0204, -0.0835, -0.0295,\n",
      "         0.0585, -0.0314, -0.0303, -0.0508, -0.0093, -0.0239, -0.0810, -0.0441,\n",
      "        -0.0617, -0.0142, -0.0450,  0.0236,  0.0218, -0.0188,  0.0389,  0.0642,\n",
      "         0.0101,  0.0775, -0.0874,  0.0131,  0.0721, -0.0046,  0.0538,  0.0061,\n",
      "         0.0686, -0.0222,  0.0765, -0.0369,  0.0358,  0.0009, -0.0375,  0.0484,\n",
      "        -0.0696,  0.0542, -0.0405,  0.0848, -0.0861, -0.0053, -0.0804,  0.0712,\n",
      "        -0.0101,  0.0756,  0.0495, -0.0698,  0.0131, -0.0066, -0.0436, -0.0055,\n",
      "         0.0405, -0.0413,  0.0638,  0.0523, -0.0362, -0.0738, -0.0760, -0.0548,\n",
      "        -0.0484, -0.0457,  0.0838,  0.0735, -0.0671,  0.0615, -0.0526, -0.0443,\n",
      "        -0.0452,  0.0571,  0.0551,  0.0661, -0.0658,  0.0884, -0.0563, -0.0499,\n",
      "        -0.0172, -0.0102,  0.0867,  0.0818, -0.0196,  0.0106, -0.0818,  0.0482,\n",
      "        -0.0523, -0.0295,  0.0763, -0.0208,  0.0419, -0.0367,  0.0662, -0.0593,\n",
      "        -0.0876, -0.0683,  0.0775, -0.0146,  0.0369,  0.0806, -0.0468,  0.0029,\n",
      "         0.0689, -0.0664,  0.0104, -0.0473,  0.0445,  0.0655, -0.0814, -0.0430,\n",
      "         0.0387, -0.0600,  0.0408, -0.0017, -0.0408, -0.0338, -0.0134,  0.0676,\n",
      "         0.0369, -0.0367, -0.0049,  0.0407,  0.0066, -0.0708, -0.0612,  0.0083,\n",
      "        -0.0671,  0.0155, -0.0844,  0.0412,  0.0395, -0.0594,  0.0793,  0.0827,\n",
      "         0.0061, -0.0600, -0.0732, -0.0668, -0.0210,  0.0546,  0.0658, -0.0292,\n",
      "        -0.0567, -0.0511, -0.0534,  0.0484, -0.0692,  0.0038,  0.0002, -0.0816,\n",
      "        -0.0326, -0.0698,  0.0104, -0.0547, -0.0792, -0.0166,  0.0271, -0.0693],\n",
      "       requires_grad=True) torch.Size([256])\n",
      "out.weight Parameter containing:\n",
      "tensor([[-0.0496,  0.0293, -0.0458,  ...,  0.0546,  0.0070, -0.0434],\n",
      "        [-0.0166, -0.0080,  0.0327,  ...,  0.0622,  0.0048,  0.0601],\n",
      "        [ 0.0502, -0.0254,  0.0169,  ..., -0.0097,  0.0381,  0.0302],\n",
      "        ...,\n",
      "        [ 0.0612,  0.0300,  0.0451,  ...,  0.0428,  0.0197, -0.0201],\n",
      "        [-0.0061, -0.0441, -0.0322,  ...,  0.0448, -0.0194, -0.0145],\n",
      "        [-0.0122,  0.0124,  0.0324,  ..., -0.0391,  0.0164, -0.0080]],\n",
      "       requires_grad=True) torch.Size([10, 256])\n",
      "out.bias Parameter containing:\n",
      "tensor([ 0.0125, -0.0117, -0.0352,  0.0147,  0.0032, -0.0397, -0.0183, -0.0368,\n",
      "         0.0550,  0.0228], requires_grad=True) torch.Size([10])\n"
     ]
    }
   ],
   "source": [
    "# 这里我们没有定义权重参数，pytorch中给自己做了。模型给做了\n",
    "# name是指那一层，上面自己定义的hidden1，hidden2\n",
    "# parameter就是权重参数\n",
    "for name, parameter in net.named_parameters():\n",
    "    print(name, parameter,parameter.size())"
   ]
  },
  {
   "cell_type": "markdown",
   "metadata": {},
   "source": [
    "# 上面构建神经网络\n",
    "# 下面定义数据集"
   ]
  },
  {
   "cell_type": "markdown",
   "metadata": {},
   "source": [
    "### 使用TensorDataset和DataLoader来简化"
   ]
  },
  {
   "cell_type": "markdown",
   "metadata": {},
   "source": [
    "dataLoader的理解\n",
    "数据向GPU中传递，64个64个数据作为batchsize大小的包进行传递，那么dataLoader就是给数据打包用的"
   ]
  },
  {
   "cell_type": "code",
   "execution_count": 28,
   "metadata": {},
   "outputs": [],
   "source": [
    "from torch.utils.data import TensorDataset\n",
    "from torch.utils.data import DataLoader\n",
    "\n",
    "# batch_size= 打包的数据大小，shuffle 洗牌\n",
    "#训练的时候需要打乱顺序，但是validation验证机不会更新参数的，不用shuffle，从哪里做题都可以，并且不需要batch_size=bs*几都可以\n",
    "train_ds = TensorDataset(x_train, y_train)\n",
    "train_dl = DataLoader(train_ds, batch_size=bs, shuffle=True)\n",
    "\n",
    "#需要训练集和验证集\n",
    "valid_ds = TensorDataset(x_valid, y_valid)\n",
    "valid_dl = DataLoader(valid_ds, batch_size=bs * 2)"
   ]
  },
  {
   "cell_type": "code",
   "execution_count": 29,
   "metadata": {},
   "outputs": [],
   "source": [
    "def get_data(train_ds, valid_ds, bs):\n",
    "    return (\n",
    "        DataLoader(train_ds, batch_size=bs, shuffle=True),\n",
    "        DataLoader(valid_ds, batch_size=bs * 2),\n",
    "    )"
   ]
  },
  {
   "cell_type": "markdown",
   "metadata": {},
   "source": [
    "- 一般在训练模型时加上model.train()，这样会正常使用Batch Normalization和 Dropout\n",
    "- 测试的时候一般选择model.eval()，这样就不会使用Batch Normalization和 Dropout"
   ]
  },
  {
   "cell_type": "markdown",
   "metadata": {},
   "source": [
    "# 下面进行训练操作"
   ]
  },
  {
   "cell_type": "code",
   "execution_count": 46,
   "metadata": {},
   "outputs": [],
   "source": [
    "import numpy as np\n",
    "\n",
    "# steps 整个数据集迭代多少次\n",
    "# model上面我们自己定义的网络模型\n",
    "# loss_func损失函数\n",
    "# opt 优化器，梯度下降\n",
    "# train_dl,valida_dl 我们打包的数据\n",
    "def fit(steps, model, loss_func, opt, train_dl, valid_dl):\n",
    "    # 外边的这个steps 就时epoch的意思\n",
    "    # 数据量1000个，那么每次batch100个数据\n",
    "    # 那么epoch是迭代多少次可以训练完成这些数据，那么需要迭代100次，一次迭代多少个数据是batch\n",
    "    for step in range(steps):\n",
    "        # model两个模式一个训练模式，一个验证模式\n",
    "        # 训练模式需要更新权重参数，w和b\n",
    "        model.train()\n",
    "        # 这里的parameter就是上面封装好的dataloader\n",
    "        for xb, yb in train_dl:\n",
    "            loss_batch(model, loss_func, xb, yb, opt)\n",
    "\n",
    "        # 验证模式，这里没有梯度了，不更新权重参数，只要得到一个答案就可以了\n",
    "        model.eval()\n",
    "        with torch.no_grad():\n",
    "            # 这里考试，所以需要返回训练的损失\n",
    "            # 这里的nums虽然我们是64个一组batch来训练的，但是并不是每次都一定返回64，比如最后一次可能剩下不到64个数，就不会返回64\n",
    "            losses, nums = zip(\n",
    "                # 这里就得到了每一组batch的损失\n",
    "                *[loss_batch(model, loss_func, xb, yb) for xb, yb in valid_dl]\n",
    "            )\n",
    "        # 这里计算平均的损失 / 训练次数 【总损失=每次批次损失的值*样本的个数】\n",
    "        val_loss = np.sum(np.multiply(losses, nums)) / np.sum(nums)\n",
    "        print('当前step:'+str(step), '验证集损失：'+str(val_loss))"
   ]
  },
  {
   "cell_type": "code",
   "execution_count": 57,
   "metadata": {},
   "outputs": [],
   "source": [
    "# 优化器\n",
    "from torch import optim\n",
    "def get_model():\n",
    "    model = Mnist_NN()\n",
    "    # SGD梯度下降，所有的参数都更新，那么这里model。parameters就是每一层的w，b[w1,b1和w2,b2],lr是学习率，刚开始都尽可能小一点，迭代次数多一些\n",
    "    # Adam优化器 可以看到梯度下降的非常的块效果更好\n",
    "    return model, optim.Adam(model.parameters(), lr=0.001)"
   ]
  },
  {
   "cell_type": "code",
   "execution_count": 36,
   "metadata": {},
   "outputs": [
    {
     "data": {
      "text/plain": [
       "<bound method Module.parameters of Mnist_NN(\n",
       "  (hidden1): Linear(in_features=784, out_features=128, bias=True)\n",
       "  (hidden2): Linear(in_features=128, out_features=256, bias=True)\n",
       "  (out): Linear(in_features=256, out_features=10, bias=True)\n",
       "  (dropout): Dropout(p=0.5, inplace=False)\n",
       ")>"
      ]
     },
     "execution_count": 36,
     "metadata": {},
     "output_type": "execute_result"
    }
   ],
   "source": [
    "model.parameters"
   ]
  },
  {
   "cell_type": "code",
   "execution_count": 48,
   "metadata": {},
   "outputs": [],
   "source": [
    "# 1. 计算损失\n",
    "# 2. 更新权重参数\n",
    "def loss_batch(model, loss_func, xb, yb, opt=None):\n",
    "    loss = loss_func(model(xb), yb)\n",
    "\n",
    "    if opt is not None:\n",
    "\n",
    "        # 反向传播计算梯度\n",
    "        loss.backward()\n",
    "        # 沿着梯度进行更新\n",
    "        opt.step()\n",
    "        # torch 每次迭代的更新会做累加 这里torch默认的更新会将这次迭代的w和上一次迭代用的梯度值累加。。。就是课上讲的防止梯度消失的方法\n",
    "        # 这里避免每次迭代的累加，每次都设置上次梯度迭代时0，0+这次迭代=这次迭代的值\n",
    "        # 默认这次更新的梯度和之前更新的梯度都没有关系的，所以默认都加上zero_grad\n",
    "        # 更新之后将当前的梯度清0，然后继续做\n",
    "        opt.zero_grad()\n",
    "\n",
    "    #这样就执行了一次更新，执行之后返回loss就可以了\n",
    "    # 这里计算样本的平均损失，所以需要除以样本的总数\n",
    "    return loss.item(), len(xb)"
   ]
  },
  {
   "cell_type": "markdown",
   "metadata": {},
   "source": [
    "### 三行搞定！"
   ]
  },
  {
   "cell_type": "code",
   "execution_count": 49,
   "metadata": {},
   "outputs": [
    {
     "name": "stdout",
     "output_type": "stream",
     "text": [
      "当前step:0 验证集损失：2.276843878555298\n",
      "当前step:1 验证集损失：2.2428342697143555\n",
      "当前step:2 验证集损失：2.194053916931152\n",
      "当前step:3 验证集损失：2.1240880840301513\n",
      "当前step:4 验证集损失：2.0282446739196778\n",
      "当前step:5 验证集损失：1.9006445817947388\n",
      "当前step:6 验证集损失：1.7352683010101317\n",
      "当前step:7 验证集损失：1.5384176153182982\n",
      "当前step:8 验证集损失：1.3361773078918457\n",
      "当前step:9 验证集损失：1.1625820545196532\n",
      "当前step:10 验证集损失：1.025788812828064\n",
      "当前step:11 验证集损失：0.9223114345550537\n",
      "当前step:12 验证集损失：0.8414798892974854\n",
      "当前step:13 验证集损失：0.777689347743988\n",
      "当前step:14 验证集损失：0.7258062195777893\n",
      "当前step:15 验证集损失：0.6811079141616821\n",
      "当前step:16 验证集损失：0.644171739578247\n",
      "当前step:17 验证集损失：0.6129091912269592\n",
      "当前step:18 验证集损失：0.584997200679779\n",
      "当前step:19 验证集损失：0.5606654470443726\n",
      "当前step:20 验证集损失：0.5392741546154022\n",
      "当前step:21 验证集损失：0.5197537083148956\n",
      "当前step:22 验证集损失：0.502247228527069\n",
      "当前step:23 验证集损失：0.4870872275829315\n",
      "当前step:24 验证集损失：0.47258752207756044\n"
     ]
    }
   ],
   "source": [
    "train_dl, valid_dl = get_data(train_ds, valid_ds, bs)\n",
    "model, opt = get_model()\n",
    "fit(25, model, loss_func, opt, train_dl, valid_dl)"
   ]
  },
  {
   "cell_type": "markdown",
   "metadata": {},
   "source": [
    "# zip的用法 打包，配对的意思"
   ]
  },
  {
   "cell_type": "code",
   "execution_count": 43,
   "metadata": {},
   "outputs": [],
   "source": [
    "a=[1,2,3]\n",
    "b=[4,5,6]\n",
    "zipped =zip(a,b)"
   ]
  },
  {
   "cell_type": "code",
   "execution_count": 39,
   "metadata": {},
   "outputs": [
    {
     "data": {
      "text/plain": [
       "<zip at 0x21bb5f32fc0>"
      ]
     },
     "execution_count": 39,
     "metadata": {},
     "output_type": "execute_result"
    }
   ],
   "source": [
    "zipped"
   ]
  },
  {
   "cell_type": "code",
   "execution_count": 40,
   "metadata": {},
   "outputs": [
    {
     "name": "stdout",
     "output_type": "stream",
     "text": [
      "[(1, 4), (2, 5), (3, 6)]\n"
     ]
    }
   ],
   "source": [
    "print(list(zipped))"
   ]
  },
  {
   "cell_type": "code",
   "execution_count": 45,
   "metadata": {},
   "outputs": [
    {
     "name": "stdout",
     "output_type": "stream",
     "text": [
      "(1, 2, 3)\n",
      "(4, 5, 6)\n"
     ]
    }
   ],
   "source": [
    "a2,b2 = zip(*zip(a,b))\n",
    "print(a2)\n",
    "print(b2)"
   ]
  },
  {
   "cell_type": "code",
   "execution_count": 55,
   "metadata": {},
   "outputs": [
    {
     "name": "stdout",
     "output_type": "stream",
     "text": [
      "Accuracy of the network on the 10000 test images: %d %% 87.84\n"
     ]
    }
   ],
   "source": [
    "# 计算准确率\n",
    "correct = 0\n",
    "total = 0\n",
    "for xb,yb in valid_dl:\n",
    "    outputs = model(xb)\n",
    "    \n",
    "    # outputs返回每一个样本的十个类别的输出值【这个时候还不是概率呢】\n",
    "    # print(outputs)\n",
    "\n",
    "    # torch.max 后面的1是告诉沿着哪个维度取最大，对每个样本的值最大，0是比较不同样本之间的东西了【128*10】的数据，对10这个维度来比较，所以是1\n",
    "\n",
    "    # max返回第一个元素，最大的值是什么，这个值所在的位置是什么\n",
    "    _,predicted = torch.max(outputs.data,1)\n",
    "    total += yb.size(0)\n",
    "    correct += (predicted == yb).sum().item()\n",
    "\n",
    "print(f'Accuracy of the network on the 10000 test images: %d %%',(100*correct)/total)"
   ]
  }
 ],
 "metadata": {
  "kernelspec": {
   "display_name": "Python 3 (ipykernel)",
   "language": "python",
   "name": "python3"
  },
  "language_info": {
   "codemirror_mode": {
    "name": "ipython",
    "version": 3
   },
   "file_extension": ".py",
   "mimetype": "text/x-python",
   "name": "python",
   "nbconvert_exporter": "python",
   "pygments_lexer": "ipython3",
   "version": "3.10.5"
  }
 },
 "nbformat": 4,
 "nbformat_minor": 4
}
